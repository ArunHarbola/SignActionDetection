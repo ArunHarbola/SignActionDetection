{
 "cells": [
  {
   "cell_type": "code",
   "execution_count": 31,
   "metadata": {},
   "outputs": [],
   "source": [
    "import json\n",
    "from os import listdir\n",
    "from os.path import isfile, join , isdir\n",
    "import mediapipe as mp \n",
    "import cv2\n",
    "import csv\n",
    "from mediapipe.python.solutions import holistic, pose\n",
    "import numpy as np "
   ]
  },
  {
   "cell_type": "code",
   "execution_count": 24,
   "metadata": {},
   "outputs": [],
   "source": [
    "# !kaggle competitions download -c asl-signs"
   ]
  },
  {
   "cell_type": "code",
   "execution_count": 32,
   "metadata": {},
   "outputs": [],
   "source": [
    "with open('./WLASL_v0.3.json', 'r') as f:\n",
    "    data = json.load(f)\n",
    "\n",
    "for element in data:\n",
    "    element_name = element[\"gloss\"]\n",
    "    # print(element_name)\n",
    "\n",
    "\n",
    "mypath = './SL/'\n",
    "folderNames = [f for f in listdir(mypath) if (isdir(join(mypath, f)) )] \n",
    "\n",
    "# for i in folderNames:\n",
    "#     print(i)\n",
    "\n",
    "folderPaths = [join(mypath, f) for f in folderNames]  \n",
    "# for i in folderPaths:\n",
    "#     print(i)\n",
    "\n",
    "# fileNames = [f for f in listdir(folderPaths) if (isfile(join(mypath, f)) and f.endswith('.mp4'))] \n",
    "# for i in fileNames:\n",
    "# lst = listdir(folderPaths[0])\n",
    "# print(join(folderPaths[0],lst[1]))\n",
    "fileNames = []\n",
    "for folder in folderPaths:\n",
    "    lst = listdir(folder)\n",
    "    for f in lst:\n",
    "        fileNames.append(join(folder,f))\n",
    "\n",
    "# for i in fileNames:\n",
    "#     print(i)\n",
    "\n",
    "    "
   ]
  },
  {
   "cell_type": "code",
   "execution_count": 33,
   "metadata": {},
   "outputs": [],
   "source": [
    "def extract_features(video_path):\n",
    "    cap = cv2.VideoCapture(video_path)\n",
    "\n",
    "\n",
    "    action_detection = holistic.Holistic(\n",
    "        static_image_mode=False,\n",
    "        model_complexity=1,\n",
    "        enable_segmentation=False,\n",
    "        )\n",
    "\n",
    "    # landmarks_array = np.empty((0, 33), dtype=np.float32)\n",
    "    pose_array = [] \n",
    "    while True:\n",
    "        ret, frame = cap.read()\n",
    "        if not ret:\n",
    "            break\n",
    "        # Process the frame here\n",
    "        # Convert the frame to RGB format and process it using the pipeline\n",
    "        rgb_frame = cv2.cvtColor(frame, cv2.COLOR_BGR2RGB)\n",
    "        results = action_detection.process(rgb_frame)\n",
    "        if results.pose_landmarks:\n",
    "            # Print the landmark positions for the first detected pose\n",
    "            pose_landmarks = results.pose_landmarks.landmark\n",
    "            # for landmark in pose_landmarks:\n",
    "            #     print(f\"{landmark.x}, {landmark.y}, {landmark.z}\")\n",
    "            pose_array = np.array([[landmark.x, landmark.y, landmark.z] for landmark in pose_landmarks], dtype=np.float32)\n",
    "        \n",
    "            # landmarks_array = np.vstack((landmarks_array, pose_array))\n",
    "    cap.release()\n",
    "    return pose_array\n",
    "    # for i in pose_array:\n",
    "    #     print(i)\n",
    "ar = extract_features('./SL/a/01611.mp4')\n",
    "# for i in ar:\n",
    "#     print(i)"
   ]
  },
  {
   "cell_type": "code",
   "execution_count": 36,
   "metadata": {},
   "outputs": [
    {
     "ename": "KeyboardInterrupt",
     "evalue": "",
     "output_type": "error",
     "traceback": [
      "\u001b[1;31m---------------------------------------------------------------------------\u001b[0m",
      "\u001b[1;31mKeyboardInterrupt\u001b[0m                         Traceback (most recent call last)",
      "Cell \u001b[1;32mIn[36], line 2\u001b[0m\n\u001b[0;32m      1\u001b[0m \u001b[39mfor\u001b[39;00m i \u001b[39min\u001b[39;00m fileNames:\n\u001b[1;32m----> 2\u001b[0m     item \u001b[39m=\u001b[39m extract_features(i)\n\u001b[0;32m      3\u001b[0m     \u001b[39mwith\u001b[39;00m \u001b[39mopen\u001b[39m(\u001b[39m'\u001b[39m\u001b[39mfeatures.csv\u001b[39m\u001b[39m'\u001b[39m,\u001b[39m'\u001b[39m\u001b[39ma\u001b[39m\u001b[39m'\u001b[39m,newline\u001b[39m=\u001b[39m\u001b[39m'\u001b[39m\u001b[39m\\n\u001b[39;00m\u001b[39m'\u001b[39m) \u001b[39mas\u001b[39;00m f:\n\u001b[0;32m      4\u001b[0m         writer \u001b[39m=\u001b[39m csv\u001b[39m.\u001b[39mwriter(f)\n",
      "Cell \u001b[1;32mIn[33], line 20\u001b[0m, in \u001b[0;36mextract_features\u001b[1;34m(video_path)\u001b[0m\n\u001b[0;32m     17\u001b[0m \u001b[39m# Process the frame here\u001b[39;00m\n\u001b[0;32m     18\u001b[0m \u001b[39m# Convert the frame to RGB format and process it using the pipeline\u001b[39;00m\n\u001b[0;32m     19\u001b[0m rgb_frame \u001b[39m=\u001b[39m cv2\u001b[39m.\u001b[39mcvtColor(frame, cv2\u001b[39m.\u001b[39mCOLOR_BGR2RGB)\n\u001b[1;32m---> 20\u001b[0m results \u001b[39m=\u001b[39m action_detection\u001b[39m.\u001b[39;49mprocess(rgb_frame)\n\u001b[0;32m     21\u001b[0m \u001b[39mif\u001b[39;00m results\u001b[39m.\u001b[39mpose_landmarks:\n\u001b[0;32m     22\u001b[0m     \u001b[39m# Print the landmark positions for the first detected pose\u001b[39;00m\n\u001b[0;32m     23\u001b[0m     pose_landmarks \u001b[39m=\u001b[39m results\u001b[39m.\u001b[39mpose_landmarks\u001b[39m.\u001b[39mlandmark\n",
      "File \u001b[1;32m~\\AppData\\Local\\Packages\\PythonSoftwareFoundation.Python.3.10_qbz5n2kfra8p0\\LocalCache\\local-packages\\Python310\\site-packages\\mediapipe\\python\\solutions\\holistic.py:160\u001b[0m, in \u001b[0;36mHolistic.process\u001b[1;34m(self, image)\u001b[0m\n\u001b[0;32m    136\u001b[0m \u001b[39mdef\u001b[39;00m \u001b[39mprocess\u001b[39m(\u001b[39mself\u001b[39m, image: np\u001b[39m.\u001b[39mndarray) \u001b[39m-\u001b[39m\u001b[39m>\u001b[39m NamedTuple:\n\u001b[0;32m    137\u001b[0m \u001b[39m  \u001b[39m\u001b[39m\"\"\"Processes an RGB image and returns the pose landmarks, left and right hand landmarks, and face landmarks on the most prominent person detected.\u001b[39;00m\n\u001b[0;32m    138\u001b[0m \n\u001b[0;32m    139\u001b[0m \u001b[39m  Args:\u001b[39;00m\n\u001b[1;32m   (...)\u001b[0m\n\u001b[0;32m    157\u001b[0m \u001b[39m         \"enable_segmentation\" is set to true.\u001b[39;00m\n\u001b[0;32m    158\u001b[0m \u001b[39m  \"\"\"\u001b[39;00m\n\u001b[1;32m--> 160\u001b[0m   results \u001b[39m=\u001b[39m \u001b[39msuper\u001b[39;49m()\u001b[39m.\u001b[39;49mprocess(input_data\u001b[39m=\u001b[39;49m{\u001b[39m'\u001b[39;49m\u001b[39mimage\u001b[39;49m\u001b[39m'\u001b[39;49m: image})\n\u001b[0;32m    161\u001b[0m   \u001b[39mif\u001b[39;00m results\u001b[39m.\u001b[39mpose_landmarks:  \u001b[39m# pytype: disable=attribute-error\u001b[39;00m\n\u001b[0;32m    162\u001b[0m     \u001b[39mfor\u001b[39;00m landmark \u001b[39min\u001b[39;00m results\u001b[39m.\u001b[39mpose_landmarks\u001b[39m.\u001b[39mlandmark:  \u001b[39m# pytype: disable=attribute-error\u001b[39;00m\n",
      "File \u001b[1;32m~\\AppData\\Local\\Packages\\PythonSoftwareFoundation.Python.3.10_qbz5n2kfra8p0\\LocalCache\\local-packages\\Python310\\site-packages\\mediapipe\\python\\solution_base.py:365\u001b[0m, in \u001b[0;36mSolutionBase.process\u001b[1;34m(self, input_data)\u001b[0m\n\u001b[0;32m    359\u001b[0m   \u001b[39melse\u001b[39;00m:\n\u001b[0;32m    360\u001b[0m     \u001b[39mself\u001b[39m\u001b[39m.\u001b[39m_graph\u001b[39m.\u001b[39madd_packet_to_input_stream(\n\u001b[0;32m    361\u001b[0m         stream\u001b[39m=\u001b[39mstream_name,\n\u001b[0;32m    362\u001b[0m         packet\u001b[39m=\u001b[39m\u001b[39mself\u001b[39m\u001b[39m.\u001b[39m_make_packet(input_stream_type,\n\u001b[0;32m    363\u001b[0m                                  data)\u001b[39m.\u001b[39mat(\u001b[39mself\u001b[39m\u001b[39m.\u001b[39m_simulated_timestamp))\n\u001b[1;32m--> 365\u001b[0m \u001b[39mself\u001b[39;49m\u001b[39m.\u001b[39;49m_graph\u001b[39m.\u001b[39;49mwait_until_idle()\n\u001b[0;32m    366\u001b[0m \u001b[39m# Create a NamedTuple object where the field names are mapping to the graph\u001b[39;00m\n\u001b[0;32m    367\u001b[0m \u001b[39m# output stream names.\u001b[39;00m\n\u001b[0;32m    368\u001b[0m solution_outputs \u001b[39m=\u001b[39m collections\u001b[39m.\u001b[39mnamedtuple(\n\u001b[0;32m    369\u001b[0m     \u001b[39m'\u001b[39m\u001b[39mSolutionOutputs\u001b[39m\u001b[39m'\u001b[39m, \u001b[39mself\u001b[39m\u001b[39m.\u001b[39m_output_stream_type_info\u001b[39m.\u001b[39mkeys())\n",
      "\u001b[1;31mKeyboardInterrupt\u001b[0m: "
     ]
    }
   ],
   "source": [
    "for i in fileNames:\n",
    "    item = extract_features(i)\n",
    "    with open('features.csv','a',newline='\\n') as f:\n",
    "        writer = csv.writer(f)\n",
    "        writer.writerow(item)\n",
    "        # np.savetxt('features.csv', item, delimiter=',')\n",
    "        \n"
   ]
  }
 ],
 "metadata": {
  "kernelspec": {
   "display_name": "Python 3",
   "language": "python",
   "name": "python3"
  },
  "language_info": {
   "codemirror_mode": {
    "name": "ipython",
    "version": 3
   },
   "file_extension": ".py",
   "mimetype": "text/x-python",
   "name": "python",
   "nbconvert_exporter": "python",
   "pygments_lexer": "ipython3",
   "version": "3.10.10"
  },
  "orig_nbformat": 4
 },
 "nbformat": 4,
 "nbformat_minor": 2
}
